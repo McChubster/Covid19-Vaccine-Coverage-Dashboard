{
 "cells": [
  {
   "cell_type": "markdown",
   "metadata": {},
   "source": [
    "[DIY Covid-19 Dashboard Kit](https://github.com/fsmeraldi/diy-covid19dash) (C) Fabrizio Smeraldi, 2020 ([f.smeraldi@qmul.ac.uk](mailto:f.smeraldi@qmul.ac.uk) - [web](http://www.eecs.qmul.ac.uk/~fabri/)). This notebook is released under the [GNU GPLv3.0 or later](https://www.gnu.org/licenses/)."
   ]
  },
  {
   "cell_type": "markdown",
   "metadata": {},
   "source": [
    "# UK COVID19 Vaccine Coverage Dashboard"
   ]
  },
  {
   "cell_type": "markdown",
   "metadata": {},
   "source": [
    "The dashboard at the end of this page shows vaccination coverage percentage for each age group in the UK. "
   ]
  },
  {
   "cell_type": "code",
   "execution_count": 47,
   "metadata": {},
   "outputs": [],
   "source": [
    "from IPython.display import clear_output\n",
    "import ipywidgets as wdg\n",
    "import pandas as pd\n",
    "import numpy as np\n",
    "import matplotlib.pyplot as plt\n",
    "import json\n",
    "from uk_covid19 import Cov19API"
   ]
  },
  {
   "cell_type": "code",
   "execution_count": 75,
   "metadata": {},
   "outputs": [],
   "source": [
    "%matplotlib inline\n",
    "# make figures larger\n",
    "plt.rcParams['figure.dpi'] = 200"
   ]
  },
  {
   "cell_type": "markdown",
   "metadata": {},
   "source": [
    "## Load initial data from disk\n",
    "\n",
    "An initial data is loaded to setup the plots. Click on the \"Retrieve\" button to get the updated data."
   ]
  },
  {
   "cell_type": "code",
   "execution_count": 89,
   "metadata": {},
   "outputs": [],
   "source": [
    "# Load JSON files and store the raw data in some variable. Edit as appropriate\n",
    "with open(\"initialdata.json\", \"rt\") as INFILE:\n",
    "    jsondata = json.load(INFILE)"
   ]
  },
  {
   "cell_type": "markdown",
   "metadata": {},
   "source": [
    "## Wrangle the data\n"
   ]
  },
  {
   "cell_type": "code",
   "execution_count": 101,
   "metadata": {},
   "outputs": [],
   "source": [
    "\n",
    "def wrangle_data(rawdata):\n",
    "    \"\"\" \n",
    "    :param rawdata: dict, data from json file or API call. \n",
    "    :return (df): dataframe for plotting\n",
    "    \"\"\"\n",
    "    # Calculate lenghth of nested list to use indexes\n",
    "    agegroupsize = len(rawdata[\"data\"][0][\"vaccinationdemograph\"])\n",
    "    \n",
    "    # Add data needed into seperate lists\n",
    "    agegroups = [rawdata[\"data\"][0][\"vaccinationdemograph\"][i][\"age\"] for i in range(agegroupsize)]\n",
    "    twodoses = [rawdata[\"data\"][0][\"vaccinationdemograph\"][i][\"cumVaccinationCompleteCoverageByVaccinationDatePercentage\"] for i in range(agegroupsize)]\n",
    "    booster = [rawdata[\"data\"][0][\"vaccinationdemograph\"][i][\"cumVaccinationThirdInjectionUptakeByVaccinationDatePercentage\"] for i in range(agegroupsize)]\n",
    "    \n",
    "    # Clean up data for better plot presentation\n",
    "    lists_preprocessing(agegroups, twodoses, booster)\n",
    "    \n",
    "    # Dataframe creation\n",
    "    df = pd.DataFrame(index=agegroups, columns=['2 Doses', 'Booster'])\n",
    "    for i in range(len(agegroups)):\n",
    "        ageband = agegroups[i]\n",
    "        df.loc[ageband, '2 Doses'] = twodoses[i]\n",
    "        df.loc[ageband, 'Booster'] = booster[i]\n",
    "    return df\n",
    "\n",
    "\n",
    "def lists_preprocessing(l1, l2, l3):\n",
    "    \"\"\"\n",
    "    :param l1, l2, l3: list, contains data to use as index, and column values for datafram\n",
    "    :return l1, l2, l3: cleaned-up list for dataframe plotting.\n",
    "    \"\"\"\n",
    "    for group in l1:\n",
    "        if \"+\" in group:\n",
    "            if \"90\" in group:\n",
    "                break \n",
    "            else:\n",
    "                i = l1.index(group)\n",
    "                l1.pop(i)\n",
    "                l2.pop(i)\n",
    "                l3.pop(i)\n",
    "    return l1, l2, l3\n",
    "\n",
    "# putting the wrangling code into a function allows you to call it again after refreshing the data through \n",
    "# the API. You should call the function directly on the JSON data when the dashboard starts, by including \n",
    "# the call in this cell as below:\n",
    "df=wrangle_data(jsondata) # df is the dataframe for plotting"
   ]
  },
  {
   "cell_type": "markdown",
   "metadata": {},
   "source": [
    "## Download current data"
   ]
  },
  {
   "cell_type": "markdown",
   "metadata": {},
   "source": [
    "Click on the blue Retrieve button to retrieve the data of UK vaccination coverage for each group. If data succesfully retrieved, the button will turn green. "
   ]
  },
  {
   "cell_type": "code",
   "execution_count": 92,
   "metadata": {},
   "outputs": [],
   "source": [
    "# Place your API access code in this function. Do not call this function directly; it will be called by \n",
    "# the button callback. \n",
    "def access_api():\n",
    "    filters = ['areaType=nation', 'areaName=England']\n",
    "    structure = {'date': 'date','vaccinationdemograph': 'vaccinationsAgeDemographics'}\n",
    "    api = Cov19API(filters=filters, structure=structure)\n",
    "    vacdemo=api.get_json()\n",
    "\n",
    "    with open (\"vacdemo\", \"wt\") as OUTF:\n",
    "        json.dump(vacdemo, OUTF)\n",
    "    return vacdemo # return data read from the API"
   ]
  },
  {
   "cell_type": "code",
   "execution_count": 119,
   "metadata": {},
   "outputs": [
    {
     "data": {
      "application/vnd.jupyter.widget-view+json": {
       "model_id": "0965c377bc4d4b538bf2ae19cb08ff61",
       "version_major": 2,
       "version_minor": 0
      },
      "text/plain": [
       "Button(button_style='primary', description='RETRIEVE DATA', icon='download', style=ButtonStyle(), tooltip='Cli…"
      ]
     },
     "metadata": {},
     "output_type": "display_data"
    }
   ],
   "source": [
    "# Printout from this function will be lost in Voila unless captured in an\n",
    "# output widget - therefore, we give feedback to the user by changing the \n",
    "# appearance of the button\n",
    "def api_button_callback(button):\n",
    "    \"\"\" \n",
    "    Button callback - it must take the button as its parameter (unused in this case).\n",
    "    Accesses API, wrangles data, updates global variable df used for plotting. \n",
    "    \"\"\"\n",
    "    global df\n",
    "    try:\n",
    "        # Get fresh data from the API. \n",
    "        apidata=access_api()\n",
    "\n",
    "        # Wrangle the data and overwrite the dataframe for plotting\n",
    "        df=wrangle_data(apidata)\n",
    "\n",
    "        refresh_graph()\n",
    "        \n",
    "        # Update button to indicate successful retrieval\n",
    "        apibutton.icon=\"check\"\n",
    "        apibutton.button_style = 'success'\n",
    "        apibutton.description = 'Retrieved'\n",
    "    \n",
    "    except Exception as e:\n",
    "        # Handle all kinds of errors\n",
    "        apibutton.icon=\"times\"\n",
    "        apibutton.button_style = 'danger'\n",
    "        apibutton.description = \"Retry\"\n",
    "    \n",
    "    \n",
    "    \n",
    "apibutton=wdg.Button(\n",
    "    description='RETRIEVE DATA', \n",
    "    disabled=False,\n",
    "    button_style='primary', \n",
    "    tooltip=\"Click on it!\",\n",
    "    icon='download'\n",
    ")\n",
    "\n",
    "apibutton.on_click(api_button_callback) \n",
    "\n",
    "display(apibutton)"
   ]
  },
  {
   "cell_type": "markdown",
   "metadata": {},
   "source": [
    "\n",
    "## Graphs and Analysis"
   ]
  },
  {
   "cell_type": "markdown",
   "metadata": {},
   "source": [
    "There are three different plots available for users to choose from. The default plot is a combination of the other two plots:\n",
    "1. 2 doses coverage percentage for different age groups in UK\n",
    "2. Booster shot coverage percentage for different age groups in UK\n",
    "Choose the plot you would like to see in the drop down menu."
   ]
  },
  {
   "cell_type": "code",
   "execution_count": 97,
   "metadata": {},
   "outputs": [
    {
     "data": {
      "application/vnd.jupyter.widget-view+json": {
       "model_id": "35b5d73758a54c66af4eab39e7c493ad",
       "version_major": 2,
       "version_minor": 0
      },
      "text/plain": [
       "Dropdown(description='Plots: ', options=('Combined', '2 Doses', 'Booster'), value='Combined')"
      ]
     },
     "metadata": {},
     "output_type": "display_data"
    },
    {
     "data": {
      "application/vnd.jupyter.widget-view+json": {
       "model_id": "8719ed0b70784fdbac1917ff87e3f6c4",
       "version_major": 2,
       "version_minor": 0
      },
      "text/plain": [
       "Output()"
      ]
     },
     "metadata": {},
     "output_type": "display_data"
    }
   ],
   "source": [
    "def plot_age_df(vaccination):\n",
    "    # To combine both plots into one plot\n",
    "    if vaccination == 'Combined':\n",
    "        df['2 Doses'].plot(label='2 Doses Coverage', color='orange')\n",
    "        df['Booster'].plot(label='Booster Shots Coverage', color='red')\n",
    "        plt.legend()\n",
    "    \n",
    "    # To assign different colors to different plots\n",
    "    elif vaccination == '2 Doses':\n",
    "        color = 'orange' \n",
    "        df[vaccination].plot(color=color)\n",
    "    else:\n",
    "        color = 'red'\n",
    "        df[vaccination].plot(color=color)\n",
    "        \n",
    "    # Add elements and adjust style to plot\n",
    "    plt.xlabel('Age Group', fontweight='bold', labelpad=15)\n",
    "    plt.ylabel('Vaccination Coverage(%)', fontweight='bold', labelpad=15)\n",
    "    plt.grid(axis='y', linestyle='--', color='grey', alpha=0.5)\n",
    "    plt.ylim(0,100) # Set y-axis scale to same across plots\n",
    "    plt.xticks(ticks=np.arange(len(df.index)), labels=df.index, rotation=45, fontsize=8)\n",
    "    \n",
    "    plt.show() \n",
    "    \n",
    "# Drop down widget\n",
    "dosesNo = wdg.Dropdown(\n",
    "    options = ['Combined', '2 Doses', 'Booster'],\n",
    "    value = 'Combined',\n",
    "    description = 'Plots: ',\n",
    "    disabled = False,\n",
    ")\n",
    "\n",
    "def refresh_graph():\n",
    "    current = dosesNo.value\n",
    "    if current == dosesNo.options[0]:\n",
    "        other = dosesNo.options[1]\n",
    "    else:\n",
    "        other = dosesNo.options[0]\n",
    "    dosesNo.value = other # forces the redraw\n",
    "    dosesNo.value = current # now we can change it back\n",
    "    \n",
    "# Connect the plotting function and the widget    \n",
    "graph = wdg.interactive_output(plot_age_df, {'vaccination': dosesNo})\n",
    "\n",
    "# Actually displays the graph\n",
    "display(dosesNo, graph)"
   ]
  },
  {
   "cell_type": "markdown",
   "metadata": {},
   "source": [
    "## Deploying the dashboard\n",
    "\n",
    "Once your code is ready and you are satisfied with the appearance of the graphs, replace all the text boxes above with the explanations you would like a dashboard user to see. The next step is deploying the dashboard online - there are several [options](https://voila.readthedocs.io/en/stable/deploy.html) for this, we suggest deploying as a [Binder](https://mybinder.org/). This is basically the same technique that has been used to package this tutorial and to deploy this template dashboard. The instructions may seem a bit involved, but the actual steps are surprisingly easy - we will be going through them together during a live session. You will need an account on [GitHub](https://github.com/) for this - if you don't have one already, now it's the time to create it. "
   ]
  },
  {
   "cell_type": "markdown",
   "metadata": {},
   "source": [
    "**Author and Copyright Notice**  Based on UK Government [data](https://coronavirus.data.gov.uk/) published by [Public Health England](https://www.gov.uk/government/organisations/public-health-england) and on the [DIY Covid Dashboard Kit](https://github.com/fsmeraldi/diy-covid19dash), Copyright (C) Fabrizio Smeraldi 2020,2023. Released under the [GNU GPLv3.0 or later](https://www.gnu.org/licenses/)."
   ]
  }
 ],
 "metadata": {
  "kernelspec": {
   "display_name": "Python 3 (ipykernel)",
   "language": "python",
   "name": "python3"
  },
  "language_info": {
   "codemirror_mode": {
    "name": "ipython",
    "version": 3
   },
   "file_extension": ".py",
   "mimetype": "text/x-python",
   "name": "python",
   "nbconvert_exporter": "python",
   "pygments_lexer": "ipython3",
   "version": "3.10.9"
  }
 },
 "nbformat": 4,
 "nbformat_minor": 4
}
